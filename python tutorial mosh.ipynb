{
 "cells": [
  {
   "cell_type": "code",
   "execution_count": null,
   "metadata": {},
   "outputs": [],
   "source": [
    "print('hello word')"
   ]
  },
  {
   "cell_type": "code",
   "execution_count": null,
   "metadata": {},
   "outputs": [],
   "source": [
    "x=2\n",
    "y=4\n",
    "x+y"
   ]
  },
  {
   "cell_type": "code",
   "execution_count": null,
   "metadata": {},
   "outputs": [],
   "source": [
    "x=2\n",
    "while x<=100:\n",
    "if x%2==0\n",
    "\n",
    "print(x)\n",
    "x=x+1"
   ]
  },
  {
   "cell_type": "code",
   "execution_count": null,
   "metadata": {},
   "outputs": [],
   "source": [
    "lower = 1\n",
    "upper = 100\n",
    "\n",
    "print(\"Prime numbers between\", lower, \"and\", upper, \"are:\")\n",
    "\n",
    "for num in range(lower, upper + 1):\n",
    "   # all prime numbers are greater than 1\n",
    "   if num > 1:\n",
    "       for i in range(2, num):\n",
    "           if (num % i) == 0:\n",
    "               break\n",
    "       else:\n",
    "           print(num)"
   ]
  },
  {
   "cell_type": "code",
   "execution_count": null,
   "metadata": {},
   "outputs": [],
   "source": [
    "num = float(input(\"Enter a number: \"))\n",
    "if num > 0:\n",
    "   print(\"Positive number\")\n",
    "elif num == 0:\n",
    "   print(\"Zero\")\n",
    "else:\n",
    "   print(\"Negative number\")"
   ]
  },
  {
   "cell_type": "code",
   "execution_count": null,
   "metadata": {},
   "outputs": [],
   "source": [
    "x=(input(\"number\"))\n",
    "if a%2==1:\n",
    "  print(\"prime number\")\n",
    "else:\n",
    "  print(\"not a prime number\")"
   ]
  },
  {
   "cell_type": "code",
   "execution_count": null,
   "metadata": {},
   "outputs": [],
   "source": [
    "num = int(input(\"Enter a number: \"))\n",
    "if num > 0:\n",
    "   print(\"Positive number\")\n",
    "elif num == 0:\n",
    "   print(\"Zero\")\n",
    "else:\n",
    "   print(\"Negative number\")"
   ]
  },
  {
   "cell_type": "code",
   "execution_count": null,
   "metadata": {},
   "outputs": [],
   "source": [
    "x=int(input(\"enter lower limit\"))\n",
    "y=int(input(\"enter upper limit\"))\n",
    "for z in range(x,y+1):\n",
    "    if z>1: \n",
    "        for i in range(2,z):\n",
    "            if z%i==0:\n",
    "             break\n",
    "     else: \n",
    "        print(z)      "
   ]
  },
  {
   "cell_type": "code",
   "execution_count": null,
   "metadata": {},
   "outputs": [],
   "source": []
  },
  {
   "cell_type": "code",
   "execution_count": null,
   "metadata": {},
   "outputs": [],
   "source": [
    "# Python program to display all the prime numbers within an interval\n",
    "\n",
    "lower = 900\n",
    "upper = 1000\n",
    "\n",
    "print(\"Prime numbers between\", lower, \"and\", upper, \"are:\")\n",
    "\n",
    "for num in range(lower, upper + 1):\n",
    "   # all prime numbers are greater than 1\n",
    "   if num > 1:\n",
    "       for i in range(2, num):\n",
    "           if (num % i) == 0:\n",
    "               break\n",
    "       else:\n",
    "           print(num)"
   ]
  },
  {
   "cell_type": "code",
   "execution_count": null,
   "metadata": {},
   "outputs": [],
   "source": [
    "x=int(input(\"enter lower limit\"))\n",
    "y=int(input(\"enter upper limit\"))\n",
    "for z in range(x,y+1):\n",
    "    if z>1:  \n",
    "     for i in range(2,z):\n",
    "        if z%i==0:\n",
    "           break\n",
    "     else:\n",
    "        print(z)"
   ]
  },
  {
   "cell_type": "code",
   "execution_count": null,
   "metadata": {},
   "outputs": [],
   "source": [
    "26+2"
   ]
  },
  {
   "cell_type": "code",
   "execution_count": null,
   "metadata": {},
   "outputs": [],
   "source": [
    "price= 10\n",
    "rating= 4.9\n",
    "name = 'allen'\n",
    "is_published = False\n",
    "print (price)"
   ]
  },
  {
   "cell_type": "code",
   "execution_count": null,
   "metadata": {},
   "outputs": [],
   "source": [
    "name = input('what is your name? ')\n",
    "fav_color= input(' what is your favorite color ')\n",
    "print(name+' likes '+fav_color)"
   ]
  },
  {
   "cell_type": "code",
   "execution_count": null,
   "metadata": {},
   "outputs": [],
   "source": [
    "2+2\n"
   ]
  },
  {
   "cell_type": "code",
   "execution_count": null,
   "metadata": {},
   "outputs": [],
   "source": [
    "a= input('Birth year: ')\n",
    "print(type(a))\n",
    "Age= 2020-int(a)\n",
    "print(type(Age))\n",
    "print(Age)"
   ]
  },
  {
   "cell_type": "code",
   "execution_count": null,
   "metadata": {},
   "outputs": [],
   "source": [
    "weight= input('Weight in lbd ')\n",
    "kg=0.453592*int(weight)\n",
    "print(kg)"
   ]
  },
  {
   "cell_type": "code",
   "execution_count": null,
   "metadata": {},
   "outputs": [],
   "source": [
    "course = 'Python for beginners'\n",
    "print(course[:])\n",
    "%clear print 0:3-1%"
   ]
  },
  {
   "cell_type": "code",
   "execution_count": null,
   "metadata": {},
   "outputs": [],
   "source": [
    "name='jennifer'\n",
    "print(name[1:-1])"
   ]
  },
  {
   "cell_type": "code",
   "execution_count": null,
   "metadata": {},
   "outputs": [],
   "source": [
    "first = 'john'\n",
    "last = 'smith'\n",
    "msg= f'{first} [{last}] is a coder' \n",
    "#dynamically insert strings use f'  '#\n",
    "print(msg)"
   ]
  },
  {
   "cell_type": "code",
   "execution_count": null,
   "metadata": {},
   "outputs": [],
   "source": [
    "c='jkLkjkjkj1k'\n",
    "print(len(c)) # to count the no of characters#]\n",
    "print(c.lower())\n",
    "print(c.find('jkj'))\n",
    "print(c.replace('jkj','ppp'))"
   ]
  },
  {
   "cell_type": "code",
   "execution_count": null,
   "metadata": {},
   "outputs": [],
   "source": [
    "a='allen is great'\n",
    "print (a.title())\n"
   ]
  },
  {
   "cell_type": "code",
   "execution_count": null,
   "metadata": {},
   "outputs": [],
   "source": [
    "10 // 3"
   ]
  },
  {
   "cell_type": "code",
   "execution_count": null,
   "metadata": {},
   "outputs": [],
   "source": [
    "4%2"
   ]
  },
  {
   "cell_type": "code",
   "execution_count": null,
   "metadata": {},
   "outputs": [],
   "source": [
    "x = 10\n",
    "x = x + 3"
   ]
  },
  {
   "cell_type": "code",
   "execution_count": null,
   "metadata": {},
   "outputs": [],
   "source": [
    "x"
   ]
  },
  {
   "cell_type": "code",
   "execution_count": null,
   "metadata": {},
   "outputs": [],
   "source": [
    "a= 10\n",
    "a-=3\n",
    "print (a)"
   ]
  },
  {
   "cell_type": "code",
   "execution_count": null,
   "metadata": {},
   "outputs": [],
   "source": [
    "x = 2.9\n",
    "print(round(x))"
   ]
  },
  {
   "cell_type": "code",
   "execution_count": null,
   "metadata": {},
   "outputs": [],
   "source": [
    "x = -2.9\n",
    "print(abs(x))"
   ]
  },
  {
   "cell_type": "code",
   "execution_count": null,
   "metadata": {},
   "outputs": [],
   "source": [
    "import math\n",
    "\n",
    "print(math.ceil(2.9))"
   ]
  },
  {
   "cell_type": "code",
   "execution_count": null,
   "metadata": {},
   "outputs": [],
   "source": [
    "import math\n",
    "\n",
    "print(math.floor(2.9))"
   ]
  },
  {
   "cell_type": "code",
   "execution_count": null,
   "metadata": {},
   "outputs": [],
   "source": [
    "is_hot = False\n",
    "is_cold = False\n",
    "\n",
    "if is_hot:\n",
    "    print (\"it's a hot day\")\n",
    "    print (\"Drink plenty of water\")\n",
    "elif is_cold:\n",
    "    print(\"It's a cold day\")\n",
    "    print(\"wear warm clothes\")\n",
    "else:\n",
    "    print(\"it's a lovely day \")\n",
    "print(\"enjoy your day\")"
   ]
  },
  {
   "cell_type": "code",
   "execution_count": null,
   "metadata": {},
   "outputs": [],
   "source": [
    "price = 1000000\n",
    "has_good_credit = False\n",
    "if has_good_credit:\n",
    "    down_payment = 0.1 * price\n",
    "else:\n",
    "    down_payment = 0.2 * price\n",
    "print(f\"Down payment:${down_payment}\")"
   ]
  },
  {
   "cell_type": "code",
   "execution_count": null,
   "metadata": {},
   "outputs": [],
   "source": [
    "# logical operators \n",
    "has_high_income = False\n",
    "has_good_credit = False\n",
    "\n",
    "if has_high_income or has_good_credit:\n",
    "    print('eligble for loan ')\n",
    "else:\n",
    "    print('not eligible for loan')"
   ]
  },
  {
   "cell_type": "code",
   "execution_count": null,
   "metadata": {},
   "outputs": [],
   "source": [
    "has_criminal_record = False\n",
    "has_good_credit = True\n",
    "\n",
    "if has_good_credit and not has_criminal_record:\n",
    "    print('eligble for loan ')\n",
    "else:\n",
    "    print('not eligible for loan')"
   ]
  },
  {
   "cell_type": "code",
   "execution_count": null,
   "metadata": {},
   "outputs": [],
   "source": [
    "#comparsion operator\n",
    "temperature = int(input('enter temperature'))\n",
    "\n",
    "if temperature >= 30:\n",
    "    print('its a hot day')\n",
    "else:\n",
    "    print('not a hot day')"
   ]
  },
  {
   "cell_type": "code",
   "execution_count": null,
   "metadata": {},
   "outputs": [],
   "source": [
    "name= input('Name')\n",
    "if len(name)<3:\n",
    "    print('name must be atleast 3 characters long')\n",
    "elif len(name)>50:\n",
    "    print('name can be a maximum of 50 characters')\n",
    "else: \n",
    "    print('name looks good!')"
   ]
  },
  {
   "cell_type": "code",
   "execution_count": null,
   "metadata": {},
   "outputs": [],
   "source": [
    "# weight converter project\n",
    "weight= int(input('Weight: '))\n",
    "unit= input('(L)bs or (K)g: ')\n",
    "if unit.upper() == \"L\":\n",
    "    converted = weight*0.453592\n",
    "    print(f'you are {converted} kilos' )\n",
    "else:\n",
    "    converted = weight/0.453592\n",
    "    print(f'you are {converted} pounds' )"
   ]
  },
  {
   "cell_type": "code",
   "execution_count": null,
   "metadata": {},
   "outputs": [],
   "source": [
    "# while loops\n",
    "i=1\n",
    "while i<=5:\n",
    "    print(i)\n",
    "    i=i+1"
   ]
  },
  {
   "cell_type": "code",
   "execution_count": null,
   "metadata": {},
   "outputs": [],
   "source": [
    "# while loops\n",
    "i=1\n",
    "while i<=5:\n",
    "    print('1' *i)\n",
    "    i=i+1"
   ]
  },
  {
   "cell_type": "code",
   "execution_count": null,
   "metadata": {},
   "outputs": [],
   "source": [
    "#secret number game\n",
    "secret_number = 9\n",
    "guess_count = 0\n",
    "guess_limit = 3\n",
    "while guess_count < guess_limit:\n",
    "    guess = int(input('guess: '))\n",
    "    guess_count+=1\n",
    "    if guess == secret_number:\n",
    "        print('you won!')\n",
    "        break\n",
    "else:\n",
    "    print('sorry, you failed')"
   ]
  },
  {
   "cell_type": "code",
   "execution_count": null,
   "metadata": {},
   "outputs": [],
   "source": [
    "1+1"
   ]
  },
  {
   "cell_type": "code",
   "execution_count": null,
   "metadata": {},
   "outputs": [],
   "source": [
    "play= input('')\n",
    "if play=='help':\n",
    "    print('''\n",
    "    start - to start the car\n",
    "    stop - to stop the car\n",
    "    quit - to exit\n",
    "    ''')\n",
    "elif play=='start':\n",
    "    print('car started... ready to go')\n",
    "elif play=='stop':\n",
    "    print('car stopped')\n",
    "elif play=='quit':\n",
    "    print('you quit the game')\n",
    "else:\n",
    "    print('i dont understand')"
   ]
  },
  {
   "cell_type": "code",
   "execution_count": null,
   "metadata": {},
   "outputs": [],
   "source": [
    "1+1\n"
   ]
  },
  {
   "cell_type": "code",
   "execution_count": null,
   "metadata": {},
   "outputs": [],
   "source": [
    "# car game\n",
    "\n",
    "command=\"\"\n",
    "started=False\n",
    "while True:\n",
    "    command=input(\"> \").lower()\n",
    "    if command==\"start\":\n",
    "        if started:\n",
    "            print(\"car is already started\")\n",
    "        else:\n",
    "            started=True\n",
    "            print(\"car started\")\n",
    "    elif command==\"stop\":\n",
    "        if not started:\n",
    "            print(\"car is already stopped\")\n",
    "        else:\n",
    "            started=False\n",
    "            print(\"car stopped\")\n",
    "    elif command==\"help\":\n",
    "        print('''\n",
    "start- to start the car\n",
    "stop - to stop the car\n",
    "quit- to exit the game''')\n",
    "    elif command==\"quit\":\n",
    "        break\n",
    "    else:\n",
    "        print(\"sorry, i don't understand\")"
   ]
  },
  {
   "cell_type": "code",
   "execution_count": null,
   "metadata": {},
   "outputs": [],
   "source": [
    "1+1"
   ]
  },
  {
   "cell_type": "code",
   "execution_count": null,
   "metadata": {},
   "outputs": [],
   "source": [
    "# for loop\n",
    "for item in 'python':\n",
    "    print(item)"
   ]
  },
  {
   "cell_type": "code",
   "execution_count": null,
   "metadata": {},
   "outputs": [],
   "source": [
    "for item in ['mosh', 'john', 'sarah']:\n",
    "    print(item)"
   ]
  },
  {
   "cell_type": "code",
   "execution_count": null,
   "metadata": {},
   "outputs": [],
   "source": [
    "for item in range(5,10,2):\n",
    "    print(item)"
   ]
  },
  {
   "cell_type": "code",
   "execution_count": null,
   "metadata": {},
   "outputs": [],
   "source": [
    "prices=[10,20,30]\n",
    "total=0\n",
    "for price in prices:\n",
    "    total = total+price\n",
    "print(f'Total: {total}')\n",
    "        "
   ]
  },
  {
   "cell_type": "code",
   "execution_count": null,
   "metadata": {},
   "outputs": [],
   "source": [
    "# nested loops\n",
    "for x in range(4):\n",
    "    for y in range(3):\n",
    "        for z in range(2):\n",
    "            print(f'({x}, {y}, {z})')"
   ]
  },
  {
   "cell_type": "code",
   "execution_count": null,
   "metadata": {},
   "outputs": [],
   "source": [
    "number=[5,2,5,2,2]\n",
    "for item in number:\n",
    "    print(item*\"x\")"
   ]
  },
  {
   "cell_type": "code",
   "execution_count": null,
   "metadata": {},
   "outputs": [],
   "source": [
    "x"
   ]
  },
  {
   "cell_type": "code",
   "execution_count": null,
   "metadata": {},
   "outputs": [],
   "source": [
    "number=[5,2,5,2,2]\n",
    "for x_count in number:\n",
    "    output=''\n",
    "    for count in range(x_count):\n",
    "        output+= 'x'\n",
    "    print(output)"
   ]
  },
  {
   "cell_type": "code",
   "execution_count": null,
   "metadata": {},
   "outputs": [],
   "source": [
    "number=[2,2,2,2,6,6]\n",
    "for x_count in number:\n",
    "    output=''\n",
    "    for count in range(x_count):\n",
    "        output+= 'x'\n",
    "    print(output)"
   ]
  },
  {
   "cell_type": "code",
   "execution_count": null,
   "metadata": {},
   "outputs": [],
   "source": [
    "number=[2,2,2,2,6,6]\n",
    "for x_count in number:\n",
    "    output=''"
   ]
  },
  {
   "cell_type": "code",
   "execution_count": null,
   "metadata": {},
   "outputs": [],
   "source": [
    "output"
   ]
  },
  {
   "cell_type": "code",
   "execution_count": null,
   "metadata": {},
   "outputs": [],
   "source": [
    "number=[2,2,2,2,6,6]\n",
    "for x_count in number:\n",
    "    output=''"
   ]
  },
  {
   "cell_type": "code",
   "execution_count": null,
   "metadata": {},
   "outputs": [],
   "source": [
    "print(output)"
   ]
  },
  {
   "cell_type": "code",
   "execution_count": null,
   "metadata": {},
   "outputs": [],
   "source": [
    "x+x"
   ]
  },
  {
   "cell_type": "code",
   "execution_count": null,
   "metadata": {},
   "outputs": [],
   "source": [
    "x"
   ]
  },
  {
   "cell_type": "code",
   "execution_count": null,
   "metadata": {},
   "outputs": [],
   "source": [
    "number=[2,2,2,2,6,6]\n",
    "for x_count in number:\n",
    "    output=''\n",
    "    print(output)"
   ]
  },
  {
   "cell_type": "code",
   "execution_count": null,
   "metadata": {},
   "outputs": [],
   "source": [
    "number=[2,2,2,2,6,6]\n",
    "for x_count in number:\n",
    "    output=''\n",
    "    for count in range(x_count):\n",
    "        output+= 'x'\n",
    "    print(output)"
   ]
  },
  {
   "cell_type": "code",
   "execution_count": null,
   "metadata": {},
   "outputs": [],
   "source": [
    "#lists\n",
    "name=['john', 'mosh', 'sarah', 'mary']\n",
    "print(name[2:-1])"
   ]
  },
  {
   "cell_type": "code",
   "execution_count": null,
   "metadata": {},
   "outputs": [],
   "source": [
    "name='allen'\n",
    "print(len(name))"
   ]
  },
  {
   "cell_type": "code",
   "execution_count": null,
   "metadata": {},
   "outputs": [],
   "source": [
    "#largest number in the list\n",
    "numbers=[3,6,12,8,4,10]\n",
    "max = numbers[0]\n",
    "for number in numbers:\n",
    "    if number>max:\n",
    "        max=number\n",
    "print(max)"
   ]
  },
  {
   "cell_type": "code",
   "execution_count": null,
   "metadata": {},
   "outputs": [],
   "source": [
    "#smallest number in the list\n",
    "numbers=[3,6,12,1,4,10]\n",
    "min = numbers[0]\n",
    "for number in numbers:\n",
    "    if number<min:\n",
    "        min=number\n",
    "print(min)"
   ]
  },
  {
   "cell_type": "code",
   "execution_count": null,
   "metadata": {},
   "outputs": [],
   "source": []
  },
  {
   "cell_type": "code",
   "execution_count": null,
   "metadata": {},
   "outputs": [],
   "source": [
    "command=\"\"\n",
    "started=False\n",
    "while True:\n",
    "    command=input(\"> \").lower()\n",
    "    if command==\"start\":\n",
    "        if started:\n",
    "            print(\"car is already started\")\n",
    "        else:\n",
    "            started=True\n",
    "            print(\"car started\")\n",
    "    elif command==\"stop\":\n",
    "        if not started:\n",
    "            print(\"car is already stopped\")\n",
    "        else:\n",
    "            started=False\n",
    "            print(\"car stopped\")\n",
    "    elif command==\"help\":\n",
    "        print('''\n",
    "start- to start the car\n",
    "stop - to stop the car\n",
    "quit- to exit the game''')\n",
    "    elif command==\"quit\":\n",
    "        break\n",
    "    else:\n",
    "        print(\"sorry, i don't understand\")"
   ]
  },
  {
   "cell_type": "code",
   "execution_count": null,
   "metadata": {},
   "outputs": [],
   "source": [
    "1+1\n"
   ]
  },
  {
   "cell_type": "code",
   "execution_count": null,
   "metadata": {},
   "outputs": [],
   "source": [
    "#2 dimensional list\n",
    "matrix=[\n",
    "    [1, 2, 3],\n",
    "    [4, 5, 6],\n",
    "    [7, 8, 9]\n",
    "]\n",
    "for row in matrix:\n",
    "    for item in row:\n",
    "        print(item)"
   ]
  },
  {
   "cell_type": "code",
   "execution_count": null,
   "metadata": {},
   "outputs": [],
   "source": [
    "#list methods\n",
    "# .append()-to add item at the end\n",
    "# .remove(5), .pop()-pops out the last number in list, .clear()-clears the list, .index(number)-returns index of number\n",
    "# .insert(place or index, number)\n",
    "# .count(number)- repetition of the number\n"
   ]
  },
  {
   "cell_type": "code",
   "execution_count": null,
   "metadata": {},
   "outputs": [],
   "source": [
    "number=[1,2,5,2,3]\n",
    "number.sort()\n",
    "print(number) # sorts the number in accending order"
   ]
  },
  {
   "cell_type": "code",
   "execution_count": null,
   "metadata": {},
   "outputs": [],
   "source": [
    "number=[1,2,5,2,3]\n",
    "number.sort()\n",
    "number.reverse()\n",
    "print(number) # sorts the number in descending order"
   ]
  },
  {
   "cell_type": "code",
   "execution_count": null,
   "metadata": {},
   "outputs": [],
   "source": [
    "number=[1,2,5,2,3]\n",
    "number2= number.copy()\n",
    "number.append(10)\n",
    "print(number2)"
   ]
  },
  {
   "cell_type": "code",
   "execution_count": null,
   "metadata": {},
   "outputs": [],
   "source": [
    "# to remove the duplicate values\n",
    "numbers=[2,2,4,6,3,4,6,1]\n",
    "uniques= []\n",
    "for number in numbers:\n",
    "    if number not in uniques:\n",
    "        uniques.append(number)\n",
    "print(uniques)"
   ]
  },
  {
   "cell_type": "code",
   "execution_count": null,
   "metadata": {},
   "outputs": [],
   "source": [
    "# tuple: they are similar to lists but we cannot modify them, they are immutable\n",
    "numbers=(1,2,3)\n",
    "print(numbers)"
   ]
  },
  {
   "cell_type": "code",
   "execution_count": null,
   "metadata": {},
   "outputs": [],
   "source": [
    "#Unpacking\n",
    "\n",
    "coordinates=(1,2,3)\n",
    "#x= coordinates[0] \n",
    "#y= coordinates[1]\n",
    "#z= coordinates[2]        is exactly same as x, y, z= coordinates\n",
    "\n",
    "x, y, z= coordinates #unpacking this tuple into 3 variables\n",
    "print(z)"
   ]
  },
  {
   "cell_type": "code",
   "execution_count": null,
   "metadata": {},
   "outputs": [],
   "source": [
    "#Unpacking\n",
    "\n",
    "coordinates=[1,2,3]\n",
    "#x= coordinates[0] \n",
    "#y= coordinates[1]\n",
    "#z= coordinates[2]        is exactly same as x, y, z= coordinates\n",
    "\n",
    "x, y, z= coordinates #unpacking this list into 3 variables\n",
    "print(z)"
   ]
  },
  {
   "cell_type": "code",
   "execution_count": null,
   "metadata": {},
   "outputs": [],
   "source": [
    "# Dictionaries\n",
    "customer ={\n",
    "    \"name\": \"john\",\n",
    "    \"age\":30,\n",
    "    \"is_verified\": True\n",
    "}\n",
    "customer[\"name\"]= \"allen\"# replacing name\n",
    "print(customer.get(\"name\")) \n"
   ]
  },
  {
   "cell_type": "code",
   "execution_count": 2,
   "metadata": {},
   "outputs": [
    {
     "name": "stdout",
     "output_type": "stream",
     "text": [
      "phone: 9550295059\n",
      "nine five five zero two nine five zero five nine \n"
     ]
    }
   ],
   "source": [
    "phone=input(\"phone: \")\n",
    "digits={\n",
    "    \"0\": \"zero\",\n",
    "    \"1\": \"one\",\n",
    "    \"2\": \"two\",\n",
    "    \"3\": \"three\",\n",
    "    \"4\": \"four\",\n",
    "    \"5\": \"five\",\n",
    "    \"6\": \"six\",\n",
    "    \"7\": \"seven\",\n",
    "    \"8\": \"eight\",\n",
    "    \"9\": \"nine\"\n",
    "}\n",
    "output=\"\"\n",
    "for ch in phone:\n",
    "    output=output+digits.get(ch,\"!\")+\" \" # if the value is not present in the parameter, you can assign by .get(ch,value)\n",
    "print(output)"
   ]
  },
  {
   "cell_type": "code",
   "execution_count": 8,
   "metadata": {},
   "outputs": [
    {
     "name": "stdout",
     "output_type": "stream",
     "text": [
      "good morning :)\n"
     ]
    }
   ],
   "source": [
    "#emoji converter\n",
    "a='good morning :)'\n",
    "print(a)"
   ]
  },
  {
   "cell_type": "code",
   "execution_count": 13,
   "metadata": {},
   "outputs": [
    {
     "name": "stdout",
     "output_type": "stream",
     "text": [
      ">i'm sad :(\n",
      "i'm sad 🙁 \n"
     ]
    }
   ],
   "source": [
    "message=input(\">\")\n",
    "words=message.split(' ')\n",
    "emojis={\n",
    "    \":)\":\"😊\", #\"windows\"+\";\"\n",
    "    \":(\":\"🙁\"\n",
    "}\n",
    "output=\"\"\n",
    "for word in words:\n",
    "    output+=emojis.get(word,word)+\" \"\n",
    "print(output)"
   ]
  },
  {
   "cell_type": "code",
   "execution_count": 19,
   "metadata": {},
   "outputs": [
    {
     "name": "stdout",
     "output_type": "stream",
     "text": [
      "start\n",
      "hi there\n",
      "welcome aboard\n",
      "finish\n"
     ]
    }
   ],
   "source": [
    "# functions\n",
    " #name your functions with lowercase characters, multiple words separate them using characters, always use \n",
    "                #meaning full and descriptive names for functions\n",
    "def greet_user():\n",
    "    print('hi there')\n",
    "    print('welcome aboard')\n",
    "\n",
    "    \n",
    "print(\"start\")\n",
    "greet_user()    #calling these functions\n",
    "print(\"finish\")"
   ]
  },
  {
   "cell_type": "code",
   "execution_count": 37,
   "metadata": {},
   "outputs": [
    {
     "name": "stdout",
     "output_type": "stream",
     "text": [
      "start\n",
      "hi john smith!\n",
      "welcome aboard\n",
      "hi john paul!\n",
      "welcome aboard\n",
      "hi allen paul!\n",
      "welcome aboard\n",
      "finish\n"
     ]
    }
   ],
   "source": [
    "# parameters & keyword arguments\n",
    "\n",
    "def greet_user(first_name, last_name):  #with these parameters we can receive information in our functions\n",
    "    first_name            # parameters are the placeholders that we define in our function for receiving information\n",
    "    print(f'hi {first_name} {last_name}!') #arguments are the actual pieces of information that we can supply to these functions\n",
    "    print('welcome aboard')\n",
    "\n",
    "    \n",
    "print(\"start\")\n",
    "greet_user(last_name='smith', first_name= 'john') # john and smith are positional arguments, order matters,first_name, last_name\n",
    "                                                  # first_name, last_name are called keyword arguments, position doesn't matter\n",
    "                                                  # improves readability of the arguments\n",
    "greet_user('john', last_name= 'paul') # always add keyword argument after positional argument (in the same order)\n",
    "greet_user(\"allen\", 'paul')#calling these functions, allen and paul are positional arguments, order matters\n",
    "print(\"finish\")\n"
   ]
  },
  {
   "cell_type": "code",
   "execution_count": 48,
   "metadata": {},
   "outputs": [
    {
     "name": "stdout",
     "output_type": "stream",
     "text": [
      "number8\n",
      "64\n"
     ]
    }
   ],
   "source": [
    "def square(number):\n",
    "    return number*number\n",
    "num=input('number')\n",
    "\n",
    "print(square(int(num)))"
   ]
  },
  {
   "cell_type": "code",
   "execution_count": 49,
   "metadata": {},
   "outputs": [
    {
     "name": "stdout",
     "output_type": "stream",
     "text": [
      "number6\n",
      "36\n",
      "None\n"
     ]
    }
   ],
   "source": [
    "def square(number):\n",
    "    print(number*number)  #if there is no return, then python prints None, None represents absense of a value, its like nothing\n",
    "num=input('number')\n",
    "\n",
    "print(square(int(num)))"
   ]
  },
  {
   "cell_type": "code",
   "execution_count": 1,
   "metadata": {},
   "outputs": [
    {
     "name": "stdout",
     "output_type": "stream",
     "text": [
      "> hi \n",
      "hi  \n"
     ]
    }
   ],
   "source": [
    "#emoji using functions\n",
    "def emoji_converter(message):\n",
    "    words=message.split(' ')\n",
    "    emojis={\n",
    "        \":)\":\"😊\", #\"windows\" + \";\"\n",
    "        \":(\":\"🙁\"\n",
    "    }\n",
    "    output=\"\"\n",
    "    for word in words:\n",
    "        output+=emojis.get(word,word)+\" \" \n",
    "    return output\n",
    "                                # 2 lines after function\n",
    "    \n",
    "message=input(\"> \")\n",
    "print(emoji_converter(message))"
   ]
  },
  {
   "cell_type": "code",
   "execution_count": 4,
   "metadata": {},
   "outputs": [
    {
     "name": "stdout",
     "output_type": "stream",
     "text": [
      "age:gdg\n",
      "invalid value\n"
     ]
    }
   ],
   "source": [
    "# exceptions\n",
    "try:\n",
    "    age=int(input('age:'))\n",
    "    print(age)\n",
    "except ValueError:\n",
    "    print('invalid value')   #showing error properly without crashing the code"
   ]
  },
  {
   "cell_type": "code",
   "execution_count": 8,
   "metadata": {},
   "outputs": [
    {
     "name": "stdout",
     "output_type": "stream",
     "text": [
      "age:5\n",
      "5\n"
     ]
    }
   ],
   "source": [
    "# exceptions\n",
    "try:                        #to handle exceptions raised in our programs, \n",
    "    age=int(input('age:'))  # as a good programmer you must always anticipate these kind of exceptions and handle them properly\n",
    "    income=20000\n",
    "    risk=income/age\n",
    "    print(age)\n",
    "except ZeroDivisionError:\n",
    "    print('age cannot be 0')\n",
    "except ValueError:\n",
    "    print('invalid value')   #showing error properly without crashing the code"
   ]
  },
  {
   "cell_type": "code",
   "execution_count": 9,
   "metadata": {},
   "outputs": [],
   "source": [
    "#comments - to add notes "
   ]
  },
  {
   "cell_type": "code",
   "execution_count": 6,
   "metadata": {},
   "outputs": [
    {
     "name": "stdout",
     "output_type": "stream",
     "text": [
      "draw\n"
     ]
    }
   ],
   "source": [
    "#classes  #capital letter first, capitalize first letter of every word for space, this is called pascal naming convention\n",
    "class Point:\n",
    "    def move(self):\n",
    "        print(\"move\")\n",
    "    \n",
    "    def draw(self):\n",
    "        print(\"draw\")\n",
    "        \n",
    "        \n",
    "point1 = Point()\n",
    "point1.draw()"
   ]
  },
  {
   "cell_type": "code",
   "execution_count": 14,
   "metadata": {},
   "outputs": [
    {
     "name": "stdout",
     "output_type": "stream",
     "text": [
      "10\n",
      "draw\n",
      "1\n"
     ]
    }
   ],
   "source": [
    "class Point:\n",
    "    def move(self):\n",
    "        print(\"move\")\n",
    "    \n",
    "    def draw(self):\n",
    "        print(\"draw\")\n",
    "        \n",
    "        \n",
    "point1 = Point()\n",
    "point1.x=10\n",
    "point1.y=20\n",
    "print(point1.x)\n",
    "point1.draw()\n",
    "\n",
    "point2 = Point()\n",
    "point2.x=1\n",
    "print(point2.x)\n"
   ]
  },
  {
   "cell_type": "code",
   "execution_count": 16,
   "metadata": {},
   "outputs": [
    {
     "name": "stdout",
     "output_type": "stream",
     "text": [
      "11\n"
     ]
    }
   ],
   "source": [
    "# constructors\n",
    "\n",
    "class Point:\n",
    "    def __init__(self,x,y):\n",
    "        self.x=x\n",
    "        self.y=y\n",
    "    def move(self):\n",
    "        print(\"move\")\n",
    "    \n",
    "    def draw(self):\n",
    "        print(\"draw\")\n",
    "\n",
    "        \n",
    "point= Point(10,20)\n",
    "point.x=11\n",
    "print(point.x)"
   ]
  },
  {
   "cell_type": "code",
   "execution_count": 22,
   "metadata": {},
   "outputs": [
    {
     "name": "stdout",
     "output_type": "stream",
     "text": [
      "Hi, I'm john smith\n",
      "Hi, I'm bob smith\n"
     ]
    }
   ],
   "source": [
    "class Person:                #not fully clear\n",
    "    def __init__(self, name):\n",
    "        self.name=name\n",
    "        \n",
    "    def talk(self):\n",
    "        print(f\"Hi, I'm {self.name}\")\n",
    "        \n",
    "        \n",
    "john = Person(\"john smith\")\n",
    "john.talk()\n",
    "\n",
    "bob = Person(\"bob smith\")\n",
    "bob.talk()"
   ]
  },
  {
   "cell_type": "code",
   "execution_count": 32,
   "metadata": {},
   "outputs": [
    {
     "name": "stdout",
     "output_type": "stream",
     "text": [
      "walk\n"
     ]
    }
   ],
   "source": [
    "\n",
    "class Dog:\n",
    "    def walk(self):\n",
    "        print(\"walk\")\n",
    "        \n",
    "        \n",
    "dog1=Dog()\n",
    "dog1.walk()\n",
    "        \n"
   ]
  },
  {
   "cell_type": "code",
   "execution_count": 39,
   "metadata": {},
   "outputs": [
    {
     "name": "stdout",
     "output_type": "stream",
     "text": [
      "bark\n",
      "annoying\n"
     ]
    }
   ],
   "source": [
    "# inheritance\n",
    "\n",
    "class Mammals:\n",
    "    def walk(self):\n",
    "        print('walk')\n",
    "\n",
    "        \n",
    "class Dog(Mammals):          #inherit from Mammals\n",
    "    def bark(self):          #can define a function or type \"pass\"\n",
    "        print(\"bark\")\n",
    "\n",
    "\n",
    "class Cat(Mammals):          #inherit from Mammals\n",
    "    def be_annoying(self):   #can define a function or type \"pass\"\n",
    "        print(\"annoying\")\n",
    "\n",
    "\n",
    "dog1=Dog()\n",
    "dog1.bark()\n",
    "\n",
    "cat1=Cat()\n",
    "cat1.be_annoying()"
   ]
  },
  {
   "cell_type": "code",
   "execution_count": 41,
   "metadata": {},
   "outputs": [
    {
     "ename": "ModuleNotFoundError",
     "evalue": "No module named 'utils'",
     "output_type": "error",
     "traceback": [
      "\u001b[1;31m---------------------------------------------------------------------------\u001b[0m",
      "\u001b[1;31mModuleNotFoundError\u001b[0m                       Traceback (most recent call last)",
      "\u001b[1;32m<ipython-input-41-fcab4a21b162>\u001b[0m in \u001b[0;36m<module>\u001b[1;34m\u001b[0m\n\u001b[0;32m      2\u001b[0m \u001b[1;31m# just like sections in supermarket\u001b[0m\u001b[1;33m\u001b[0m\u001b[1;33m\u001b[0m\u001b[1;33m\u001b[0m\u001b[0m\n\u001b[0;32m      3\u001b[0m \u001b[1;33m\u001b[0m\u001b[0m\n\u001b[1;32m----> 4\u001b[1;33m \u001b[1;32mimport\u001b[0m \u001b[0mutils\u001b[0m\u001b[1;33m\u001b[0m\u001b[1;33m\u001b[0m\u001b[0m\n\u001b[0m\u001b[0;32m      5\u001b[0m \u001b[0mnumbers\u001b[0m\u001b[1;33m=\u001b[0m\u001b[1;33m[\u001b[0m\u001b[1;36m10\u001b[0m\u001b[1;33m,\u001b[0m\u001b[1;36m3\u001b[0m\u001b[1;33m,\u001b[0m\u001b[1;36m6\u001b[0m\u001b[1;33m,\u001b[0m\u001b[1;36m2\u001b[0m\u001b[1;33m]\u001b[0m\u001b[1;33m\u001b[0m\u001b[1;33m\u001b[0m\u001b[0m\n\u001b[0;32m      6\u001b[0m \u001b[0mutils\u001b[0m\u001b[1;33m.\u001b[0m\u001b[0mipynb\u001b[0m\u001b[1;33m.\u001b[0m\u001b[0mfind_maximum\u001b[0m\u001b[1;33m(\u001b[0m\u001b[1;33m)\u001b[0m\u001b[1;33m\u001b[0m\u001b[1;33m\u001b[0m\u001b[0m\n",
      "\u001b[1;31mModuleNotFoundError\u001b[0m: No module named 'utils'"
     ]
    }
   ],
   "source": [
    "# modules in python, a module is basically a file with some python code. we use moodules to organize our codes into files\n",
    "# just like sections in supermarket\n",
    "\n",
    "import utils\n",
    "numbers=[10,3,6,2]\n",
    "utils.ipynb.find_maximum()\n",
    "print(maximum)\n",
    "\n"
   ]
  },
  {
   "cell_type": "code",
   "execution_count": null,
   "metadata": {},
   "outputs": [],
   "source": [
    "import utils\n",
    "numbers=[10,3,6,2]\n",
    "utils.ipynb.find_maximum()   # full doubt\n",
    "print(maximum)"
   ]
  }
 ],
 "metadata": {
  "kernelspec": {
   "display_name": "Python 3",
   "language": "python",
   "name": "python3"
  },
  "language_info": {
   "codemirror_mode": {
    "name": "ipython",
    "version": 3
   },
   "file_extension": ".py",
   "mimetype": "text/x-python",
   "name": "python",
   "nbconvert_exporter": "python",
   "pygments_lexer": "ipython3",
   "version": "3.7.6"
  }
 },
 "nbformat": 4,
 "nbformat_minor": 4
}
